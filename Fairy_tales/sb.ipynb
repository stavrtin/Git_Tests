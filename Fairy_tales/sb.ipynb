{
 "cells": [
  {
   "cell_type": "markdown",
   "id": "24dc713f",
   "metadata": {},
   "source": [
    "## Sleeping Beauty"
   ]
  },
  {
   "cell_type": "code",
   "execution_count": 5,
   "id": "bd0f95ff",
   "metadata": {},
   "outputs": [],
   "source": [
    "import re\n",
    "import requests\n",
    "from bs4 import BeautifulSoup as bs\n",
    "import pandas as pd"
   ]
  },
  {
   "cell_type": "code",
   "execution_count": 6,
   "id": "924b6bf5",
   "metadata": {},
   "outputs": [],
   "source": [
    "def remove_parentheses(text):\n",
    "    \"\"\"\n",
    "    Remove all blocks of text wrapped in parentheses or brackets, squeeze the spaces and strip the text.\n",
    "    \"\"\"\n",
    "    reP = '(\\[[^\\]]*\\]|\\([^\\)]*\\))'\n",
    "    reS = '\\s+'\n",
    "    return re.sub(reS, ' ', re.sub(reP, ' ', text.replace('\\xa0',' '))).strip()"
   ]
  },
  {
   "cell_type": "code",
   "execution_count": 34,
   "id": "3f7af8f5",
   "metadata": {},
   "outputs": [],
   "source": [
    "def get_text(url):\n",
    "    headers = {'User-Agent': 'Mozilla/5.0 (Windows NT 10.0; Win64; x64) AppleWebKit/537.36 (KHTML, like Gecko) Chrome/93.0.4577.82 Safari/537.36'}\n",
    "    response = requests.get(url, headers=headers)\n",
    "    dom = bs(response.text, 'html.parser')\n",
    "    dt_list = []\n",
    "    dt_ = dom.find('dt')\n",
    "    while dt_:\n",
    "        dt_dict = {}\n",
    "        if dt_.name == 'dt':\n",
    "\n",
    "            name = dt_.next_element\n",
    "            if len(dt_.find_all('dd')) > 1:\n",
    "                dt_ = dt_.next.next\n",
    "                text = remove_parentheses(dt_.next.text)\n",
    "                dt_ = dt_.findNext()\n",
    "            else:\n",
    "                dt_ = dt_.next.next\n",
    "                text = remove_parentheses(dt_.text)\n",
    "                dt_ = dt_.findNext()\n",
    "\n",
    "            dt_dict['Character'] = name\n",
    "            dt_dict['Speech'] = text\n",
    "            dt_list.append(dt_dict)\n",
    "        else:\n",
    "            dt_ = dt_.findNext()\n",
    "\n",
    "    df = pd.DataFrame(dt_list)\n",
    "    return df"
   ]
  },
  {
   "cell_type": "code",
   "execution_count": 39,
   "id": "7c428f8f",
   "metadata": {},
   "outputs": [
    {
     "data": {
      "text/html": [
       "<div>\n",
       "<style scoped>\n",
       "    .dataframe tbody tr th:only-of-type {\n",
       "        vertical-align: middle;\n",
       "    }\n",
       "\n",
       "    .dataframe tbody tr th {\n",
       "        vertical-align: top;\n",
       "    }\n",
       "\n",
       "    .dataframe thead th {\n",
       "        text-align: right;\n",
       "    }\n",
       "</style>\n",
       "<table border=\"1\" class=\"dataframe\">\n",
       "  <thead>\n",
       "    <tr style=\"text-align: right;\">\n",
       "      <th></th>\n",
       "      <th>Character</th>\n",
       "      <th>Speech</th>\n",
       "    </tr>\n",
       "  </thead>\n",
       "  <tbody>\n",
       "    <tr>\n",
       "      <th>0</th>\n",
       "      <td>Narrator:</td>\n",
       "      <td>In a far away land, long ago, lived a king and...</td>\n",
       "    </tr>\n",
       "    <tr>\n",
       "      <th>1</th>\n",
       "      <td>Choir:</td>\n",
       "      <td>Joyfully now to our princess we come, Bringing...</td>\n",
       "    </tr>\n",
       "    <tr>\n",
       "      <th>2</th>\n",
       "      <td>Narrator:</td>\n",
       "      <td>Thus on this great and joyous day did all the ...</td>\n",
       "    </tr>\n",
       "    <tr>\n",
       "      <th>3</th>\n",
       "      <td>Announcer:</td>\n",
       "      <td>Their royal highnesses, King Hubert and prince...</td>\n",
       "    </tr>\n",
       "    <tr>\n",
       "      <th>4</th>\n",
       "      <td>Narrator:</td>\n",
       "      <td>Fondly had these monarchs dreamed one day thei...</td>\n",
       "    </tr>\n",
       "    <tr>\n",
       "      <th>...</th>\n",
       "      <td>...</td>\n",
       "      <td>...</td>\n",
       "    </tr>\n",
       "    <tr>\n",
       "      <th>439</th>\n",
       "      <td>Choir:</td>\n",
       "      <td>I know you,</td>\n",
       "    </tr>\n",
       "    <tr>\n",
       "      <th>440</th>\n",
       "      <td>Merryweather:</td>\n",
       "      <td>Blue!</td>\n",
       "    </tr>\n",
       "    <tr>\n",
       "      <th>441</th>\n",
       "      <td>Choir:</td>\n",
       "      <td>I know you, The gleam in your eyes Is so famil...</td>\n",
       "    </tr>\n",
       "    <tr>\n",
       "      <th>442</th>\n",
       "      <td>Choir:</td>\n",
       "      <td>And I know it's true That visions are seldom a...</td>\n",
       "    </tr>\n",
       "    <tr>\n",
       "      <th>443</th>\n",
       "      <td>Choir:</td>\n",
       "      <td>You'll love me at once The way you did Once up...</td>\n",
       "    </tr>\n",
       "  </tbody>\n",
       "</table>\n",
       "<p>444 rows × 2 columns</p>\n",
       "</div>"
      ],
      "text/plain": [
       "           Character                                             Speech\n",
       "0         Narrator:   In a far away land, long ago, lived a king and...\n",
       "1            Choir:   Joyfully now to our princess we come, Bringing...\n",
       "2         Narrator:   Thus on this great and joyous day did all the ...\n",
       "3        Announcer:   Their royal highnesses, King Hubert and prince...\n",
       "4         Narrator:   Fondly had these monarchs dreamed one day thei...\n",
       "..               ...                                                ...\n",
       "439          Choir:                                         I know you,\n",
       "440   Merryweather:                                               Blue!\n",
       "441          Choir:   I know you, The gleam in your eyes Is so famil...\n",
       "442          Choir:   And I know it's true That visions are seldom a...\n",
       "443          Choir:   You'll love me at once The way you did Once up...\n",
       "\n",
       "[444 rows x 2 columns]"
      ]
     },
     "execution_count": 39,
     "metadata": {},
     "output_type": "execute_result"
    }
   ],
   "source": [
    "url = 'http://www.fpx.de/fp/Disney/Scripts/SleepingBeauty/sb.html'\n",
    "\n",
    "get_text(url)"
   ]
  },
  {
   "cell_type": "code",
   "execution_count": null,
   "id": "9311d885",
   "metadata": {},
   "outputs": [],
   "source": []
  },
  {
   "cell_type": "code",
   "execution_count": null,
   "id": "e3794bcb",
   "metadata": {},
   "outputs": [],
   "source": []
  }
 ],
 "metadata": {
  "kernelspec": {
   "display_name": "Python 3 (ipykernel)",
   "language": "python",
   "name": "python3"
  },
  "language_info": {
   "codemirror_mode": {
    "name": "ipython",
    "version": 3
   },
   "file_extension": ".py",
   "mimetype": "text/x-python",
   "name": "python",
   "nbconvert_exporter": "python",
   "pygments_lexer": "ipython3",
   "version": "3.8.8"
  }
 },
 "nbformat": 4,
 "nbformat_minor": 5
}
