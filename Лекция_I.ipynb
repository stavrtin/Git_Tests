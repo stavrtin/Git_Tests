{
 "cells": [
  {
   "cell_type": "code",
   "execution_count": 1,
   "id": "2b38cd56-1131-4d92-a405-d5f994a2eeef",
   "metadata": {},
   "outputs": [],
   "source": [
    "#импортируем важные для нашей работы библиотеки\n",
    "import os\n",
    "import sys\n",
    "import random\n",
    "import pandas as pd\n",
    "import numpy as np\n",
    "from sklearn.linear_model import LogisticRegression\n",
    "from sklearn.metrics import recall_score, accuracy_score, f1_score, precision_score\n",
    "\n",
    "from matplotlib import pyplot as plt"
   ]
  },
  {
   "cell_type": "code",
   "execution_count": 2,
   "id": "33e2ff11-256b-4444-b9e9-e966ca29f176",
   "metadata": {},
   "outputs": [],
   "source": [
    "#фиксируем параметры псевдослучайного генератора\n",
    "seed = 42\n",
    "random.seed(seed)\n",
    "np.random.seed(seed)"
   ]
  },
  {
   "cell_type": "markdown",
   "id": "ac0cb2d3-f6c0-4f34-96c9-4b02e080e4e8",
   "metadata": {},
   "source": [
    "**ЗАГРУЗКА ДАННЫХ**"
   ]
  },
  {
   "cell_type": "code",
   "execution_count": 3,
   "id": "798f05d2-7f60-42cd-9e49-6bab9e1b74f0",
   "metadata": {},
   "outputs": [],
   "source": [
    "#определяем переменную, хранящую путь к папке с данными\n",
    "DATA_DIR = 'data/'"
   ]
  },
  {
   "cell_type": "code",
   "execution_count": 4,
   "id": "4b8ebc0e-11b1-4a63-a5d2-43503d8623f6",
   "metadata": {},
   "outputs": [],
   "source": [
    "files = os.listdir(DATA_DIR) #вывод всех файлов папки"
   ]
  },
  {
   "cell_type": "code",
   "execution_count": 11,
   "id": "93cc5548-d38c-4df5-987a-49299131113b",
   "metadata": {},
   "outputs": [
    {
     "data": {
      "text/plain": [
       "['.ipynb_checkpoints', 'train.csv']"
      ]
     },
     "execution_count": 11,
     "metadata": {},
     "output_type": "execute_result"
    }
   ],
   "source": [
    "files"
   ]
  },
  {
   "cell_type": "code",
   "execution_count": 6,
   "id": "0bc711b6-95ce-4fef-8461-d8dad6080f4c",
   "metadata": {},
   "outputs": [
    {
     "data": {
      "text/plain": [
       "'data/'"
      ]
     },
     "execution_count": 6,
     "metadata": {},
     "output_type": "execute_result"
    }
   ],
   "source": [
    "DATA_DIR"
   ]
  },
  {
   "cell_type": "code",
   "execution_count": 7,
   "id": "c1abccae-81b9-45d1-a90b-a33a4784bfd3",
   "metadata": {},
   "outputs": [],
   "source": [
    "data_name = DATA_DIR + 'train.csv' "
   ]
  },
  {
   "cell_type": "code",
   "execution_count": 8,
   "id": "9e1d4c4b-07ec-4197-be53-4df8582aa579",
   "metadata": {},
   "outputs": [
    {
     "data": {
      "text/plain": [
       "'data/train.csv'"
      ]
     },
     "execution_count": 8,
     "metadata": {},
     "output_type": "execute_result"
    }
   ],
   "source": [
    "data_name"
   ]
  },
  {
   "cell_type": "code",
   "execution_count": 9,
   "id": "5ccda384-d0a0-4fd8-966b-88e17fdfe5e6",
   "metadata": {},
   "outputs": [],
   "source": [
    "passengers = pd.read_csv(data_name)"
   ]
  },
  {
   "cell_type": "code",
   "execution_count": 10,
   "id": "12ef4e15-a8b3-44b3-8258-4bb97d65dc1f",
   "metadata": {},
   "outputs": [
    {
     "data": {
      "text/html": [
       "<div>\n",
       "<style scoped>\n",
       "    .dataframe tbody tr th:only-of-type {\n",
       "        vertical-align: middle;\n",
       "    }\n",
       "\n",
       "    .dataframe tbody tr th {\n",
       "        vertical-align: top;\n",
       "    }\n",
       "\n",
       "    .dataframe thead th {\n",
       "        text-align: right;\n",
       "    }\n",
       "</style>\n",
       "<table border=\"1\" class=\"dataframe\">\n",
       "  <thead>\n",
       "    <tr style=\"text-align: right;\">\n",
       "      <th></th>\n",
       "      <th>PassengerId</th>\n",
       "      <th>Survived</th>\n",
       "      <th>Pclass</th>\n",
       "      <th>Name</th>\n",
       "      <th>Sex</th>\n",
       "      <th>Age</th>\n",
       "      <th>SibSp</th>\n",
       "      <th>Parch</th>\n",
       "      <th>Ticket</th>\n",
       "      <th>Fare</th>\n",
       "      <th>Cabin</th>\n",
       "      <th>Embarked</th>\n",
       "    </tr>\n",
       "  </thead>\n",
       "  <tbody>\n",
       "    <tr>\n",
       "      <th>0</th>\n",
       "      <td>1</td>\n",
       "      <td>0</td>\n",
       "      <td>3</td>\n",
       "      <td>Braund, Mr. Owen Harris</td>\n",
       "      <td>male</td>\n",
       "      <td>22.0</td>\n",
       "      <td>1</td>\n",
       "      <td>0</td>\n",
       "      <td>A/5 21171</td>\n",
       "      <td>7.2500</td>\n",
       "      <td>NaN</td>\n",
       "      <td>S</td>\n",
       "    </tr>\n",
       "    <tr>\n",
       "      <th>1</th>\n",
       "      <td>2</td>\n",
       "      <td>1</td>\n",
       "      <td>1</td>\n",
       "      <td>Cumings, Mrs. John Bradley (Florence Briggs Th...</td>\n",
       "      <td>female</td>\n",
       "      <td>38.0</td>\n",
       "      <td>1</td>\n",
       "      <td>0</td>\n",
       "      <td>PC 17599</td>\n",
       "      <td>71.2833</td>\n",
       "      <td>C85</td>\n",
       "      <td>C</td>\n",
       "    </tr>\n",
       "    <tr>\n",
       "      <th>2</th>\n",
       "      <td>3</td>\n",
       "      <td>1</td>\n",
       "      <td>3</td>\n",
       "      <td>Heikkinen, Miss. Laina</td>\n",
       "      <td>female</td>\n",
       "      <td>26.0</td>\n",
       "      <td>0</td>\n",
       "      <td>0</td>\n",
       "      <td>STON/O2. 3101282</td>\n",
       "      <td>7.9250</td>\n",
       "      <td>NaN</td>\n",
       "      <td>S</td>\n",
       "    </tr>\n",
       "    <tr>\n",
       "      <th>3</th>\n",
       "      <td>4</td>\n",
       "      <td>1</td>\n",
       "      <td>1</td>\n",
       "      <td>Futrelle, Mrs. Jacques Heath (Lily May Peel)</td>\n",
       "      <td>female</td>\n",
       "      <td>35.0</td>\n",
       "      <td>1</td>\n",
       "      <td>0</td>\n",
       "      <td>113803</td>\n",
       "      <td>53.1000</td>\n",
       "      <td>C123</td>\n",
       "      <td>S</td>\n",
       "    </tr>\n",
       "    <tr>\n",
       "      <th>4</th>\n",
       "      <td>5</td>\n",
       "      <td>0</td>\n",
       "      <td>3</td>\n",
       "      <td>Allen, Mr. William Henry</td>\n",
       "      <td>male</td>\n",
       "      <td>35.0</td>\n",
       "      <td>0</td>\n",
       "      <td>0</td>\n",
       "      <td>373450</td>\n",
       "      <td>8.0500</td>\n",
       "      <td>NaN</td>\n",
       "      <td>S</td>\n",
       "    </tr>\n",
       "  </tbody>\n",
       "</table>\n",
       "</div>"
      ],
      "text/plain": [
       "   PassengerId  Survived  Pclass  \\\n",
       "0            1         0       3   \n",
       "1            2         1       1   \n",
       "2            3         1       3   \n",
       "3            4         1       1   \n",
       "4            5         0       3   \n",
       "\n",
       "                                                Name     Sex   Age  SibSp  \\\n",
       "0                            Braund, Mr. Owen Harris    male  22.0      1   \n",
       "1  Cumings, Mrs. John Bradley (Florence Briggs Th...  female  38.0      1   \n",
       "2                             Heikkinen, Miss. Laina  female  26.0      0   \n",
       "3       Futrelle, Mrs. Jacques Heath (Lily May Peel)  female  35.0      1   \n",
       "4                           Allen, Mr. William Henry    male  35.0      0   \n",
       "\n",
       "   Parch            Ticket     Fare Cabin Embarked  \n",
       "0      0         A/5 21171   7.2500   NaN        S  \n",
       "1      0          PC 17599  71.2833   C85        C  \n",
       "2      0  STON/O2. 3101282   7.9250   NaN        S  \n",
       "3      0            113803  53.1000  C123        S  \n",
       "4      0            373450   8.0500   NaN        S  "
      ]
     },
     "execution_count": 10,
     "metadata": {},
     "output_type": "execute_result"
    }
   ],
   "source": [
    "passengers.head()"
   ]
  },
  {
   "cell_type": "code",
   "execution_count": 26,
   "id": "a9c52dba-6209-4fee-a915-64f60d1c9cd6",
   "metadata": {},
   "outputs": [
    {
     "data": {
      "text/plain": [
       "Index(['PassengerId', 'Survived', 'Pclass', 'Name', 'Sex', 'Age', 'SibSp',\n",
       "       'Parch', 'Ticket', 'Fare', 'Cabin', 'Embarked'],\n",
       "      dtype='object')"
      ]
     },
     "execution_count": 26,
     "metadata": {},
     "output_type": "execute_result"
    }
   ],
   "source": [
    "passengers.columns"
   ]
  },
  {
   "cell_type": "code",
   "execution_count": 34,
   "id": "af36322b-a84f-4a2e-8aa4-9f64ac635f8d",
   "metadata": {},
   "outputs": [
    {
     "data": {
      "text/plain": [
       "{dtype('int64'), dtype('float64'), dtype('O')}"
      ]
     },
     "execution_count": 34,
     "metadata": {},
     "output_type": "execute_result"
    }
   ],
   "source": [
    "set(passengers.dtypes)"
   ]
  },
  {
   "cell_type": "markdown",
   "id": "5d97c17e-23c6-40b3-9278-b694af755b95",
   "metadata": {},
   "source": [
    "**ПОДСЧЕТ СТАТИСТИК**"
   ]
  },
  {
   "cell_type": "code",
   "execution_count": 37,
   "id": "633f75f3-1b9f-4643-890a-75de36f42320",
   "metadata": {},
   "outputs": [],
   "source": [
    "target = passengers.Survived"
   ]
  },
  {
   "cell_type": "code",
   "execution_count": 38,
   "id": "f812c380-9ea9-4896-9816-df3a600af535",
   "metadata": {},
   "outputs": [
    {
     "data": {
      "text/plain": [
       "0    549\n",
       "1    342\n",
       "Name: Survived, dtype: int64"
      ]
     },
     "execution_count": 38,
     "metadata": {},
     "output_type": "execute_result"
    }
   ],
   "source": [
    "target.value_counts()"
   ]
  },
  {
   "cell_type": "code",
   "execution_count": 41,
   "id": "9f0200a4-48d1-47ba-af5f-e2d34cb69133",
   "metadata": {},
   "outputs": [
    {
     "data": {
      "image/png": "[encoded data removed]",
      "text/plain": [
       "<Figure size 432x288 with 1 Axes>"
      ]
     },
     "metadata": {
      "needs_background": "light"
     },
     "output_type": "display_data"
    }
   ],
   "source": [
    "target.hist(bins=100);"
   ]
  },
  {
   "cell_type": "code",
   "execution_count": 42,
   "id": "787b5ffa-8272-499b-b43d-24e7f526036a",
   "metadata": {},
   "outputs": [
    {
     "data": {
      "text/plain": [
       "0    0.616162\n",
       "1    0.383838\n",
       "Name: Survived, dtype: float64"
      ]
     },
     "execution_count": 42,
     "metadata": {},
     "output_type": "execute_result"
    }
   ],
   "source": [
    "target.value_counts(normalize=True, dropna=False)"
   ]
  },
  {
   "cell_type": "code",
   "execution_count": null,
   "id": "7f13a543-3703-4063-b8f7-401fdcda23e5",
   "metadata": {},
   "outputs": [],
   "source": [
    "target.nunique()"
   ]
  },
  {
   "cell_type": "code",
   "execution_count": 32,
   "id": "ec17b202-e01d-4eb7-9351-4d7ec80ce433",
   "metadata": {},
   "outputs": [
    {
     "data": {
      "text/plain": [
       "pandas.core.series.Series"
      ]
     },
     "execution_count": 32,
     "metadata": {},
     "output_type": "execute_result"
    }
   ],
   "source": [
    "type(target)"
   ]
  },
  {
   "cell_type": "code",
   "execution_count": null,
   "id": "a3e64cb0-7a90-413b-a963-9f38875f7e43",
   "metadata": {},
   "outputs": [],
   "source": [
    "#Изменение типа данных выбранной колонки из исходного дата фрейма\n",
    "passengers.Survived = passengers.Survived.astype(np.bool)"
   ]
  },
  {
   "cell_type": "code",
   "execution_count": 30,
   "id": "ea381b73-1127-45e3-b99b-9a49f3ac145d",
   "metadata": {},
   "outputs": [
    {
     "data": {
      "text/plain": [
       "array([0, 1], dtype=int64)"
      ]
     },
     "execution_count": 30,
     "metadata": {},
     "output_type": "execute_result"
    }
   ],
   "source": [
    "#количество уникальных значений в колонке\n",
    "target.unique()"
   ]
  },
  {
   "cell_type": "code",
   "execution_count": 43,
   "id": "adf787b1-2f96-483a-be89-2732cdb3a700",
   "metadata": {},
   "outputs": [
    {
     "data": {
      "text/plain": [
       "count    891.000000\n",
       "mean       0.383838\n",
       "std        0.486592\n",
       "min        0.000000\n",
       "25%        0.000000\n",
       "50%        0.000000\n",
       "75%        1.000000\n",
       "max        1.000000\n",
       "Name: Survived, dtype: float64"
      ]
     },
     "execution_count": 43,
     "metadata": {},
     "output_type": "execute_result"
    }
   ],
   "source": [
    "target.describe()"
   ]
  },
  {
   "cell_type": "markdown",
   "id": "c1c64204-297f-4af6-a0a3-453a10f22bfd",
   "metadata": {},
   "source": [
    "**РАЗБИЕНИЕ ДАННЫХ**"
   ]
  },
  {
   "cell_type": "code",
   "execution_count": 34,
   "id": "8adf4fba-279d-4c0a-9150-dc2b8e60a7d0",
   "metadata": {},
   "outputs": [],
   "source": [
    "#случайная выборка 80% данных для обучени\n",
    "train_df = passengers.sample(frac=0.8, random_state=42)"
   ]
  },
  {
   "cell_type": "code",
   "execution_count": 38,
   "id": "1a83c386-db71-4866-b4df-708bddbeba18",
   "metadata": {},
   "outputs": [
    {
     "data": {
      "text/plain": [
       "(713, 12)"
      ]
     },
     "execution_count": 38,
     "metadata": {},
     "output_type": "execute_result"
    }
   ],
   "source": [
    "train_df.shape"
   ]
  },
  {
   "cell_type": "code",
   "execution_count": 43,
   "id": "27c5a097-68c0-4613-aa5a-8cca1d5545dd",
   "metadata": {},
   "outputs": [],
   "source": [
    "#выборка всех данных не входящих в обучение для теста\n",
    "test_df = passengers[~passengers['PassengerId'].isin(train_df['PassengerId'])]"
   ]
  },
  {
   "cell_type": "code",
   "execution_count": 44,
   "id": "43e3f732-2f9f-42f7-91c7-7a830276a626",
   "metadata": {},
   "outputs": [
    {
     "data": {
      "text/plain": [
       "((713, 12), (178, 12))"
      ]
     },
     "execution_count": 44,
     "metadata": {},
     "output_type": "execute_result"
    }
   ],
   "source": [
    "train_df.shape, test_df.shape"
   ]
  },
  {
   "cell_type": "code",
   "execution_count": null,
   "id": "6d5a8284-a424-425a-98ee-279f003ee177",
   "metadata": {},
   "outputs": [],
   "source": [
    "train_X = train.drop(columns=['Survived']) \n",
    "train_y = train['Survived']\n",
    "\n",
    "test_X = test.drop(columns=['Survived']) \n",
    "test_y = test['Survived']"
   ]
  },
  {
   "cell_type": "markdown",
   "id": "3f950d40-d387-41e7-b95b-b484d85b7023",
   "metadata": {},
   "source": [
    "**ОБУЧЕНИЕ И ТЕСТИРОВАНИЕ**"
   ]
  },
  {
   "cell_type": "code",
   "execution_count": null,
   "id": "5c3e9312-bf6e-46e2-b415-7abbad55d838",
   "metadata": {},
   "outputs": [],
   "source": [
    "#выберите колонки для использования в виде входных признаков и впишите ниже в переменную\n",
    "columns_2_use = []\n",
    "train_X = train_X[columns_2_use]\n",
    "test_X = test_X[columns_2_use]"
   ]
  },
  {
   "cell_type": "code",
   "execution_count": null,
   "id": "f108e397-23e0-4da4-900d-f7a18dd570d9",
   "metadata": {},
   "outputs": [],
   "source": [
    "#затравка для обучения и тестирования\n",
    "'''\n",
    "model = LogisticRegression()\n",
    "model.fit(...сами...) \n",
    "preds = model.predict(...читайте документацию!!...)\n",
    "print(recall_score(...читайте документацию!!...))\n",
    "print(accuracy_score(...читайте документацию!!...))\n",
    "print(precision_score(...читайте документацию!!...))\n",
    "print(f1_score(...читайте документацию!!...))\n",
    "'''"
   ]
  }
 ],
 "metadata": {
  "kernelspec": {
   "display_name": "Python 3 (ipykernel)",
   "language": "python",
   "name": "python3"
  },
  "language_info": {
   "codemirror_mode": {
    "name": "ipython",
    "version": 3
   },
   "file_extension": ".py",
   "mimetype": "text/x-python",
   "name": "python",
   "nbconvert_exporter": "python",
   "pygments_lexer": "ipython3",
   "version": "3.8.11"
  }
 },
 "nbformat": 4,
 "nbformat_minor": 5
}
