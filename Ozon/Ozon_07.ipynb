{
 "cells": [
  {
   "cell_type": "markdown",
   "id": "d645a8c7",
   "metadata": {},
   "source": [
    "#### Подготовительные мероприятия"
   ]
  },
  {
   "cell_type": "code",
   "execution_count": 1,
   "id": "9e4299fd",
   "metadata": {},
   "outputs": [],
   "source": [
    "import pandas as pd\n",
    "import datetime\n",
    "from matplotlib import pyplot as plt\n",
    "%matplotlib inline\n",
    "\n",
    "import warnings\n",
    "warnings.filterwarnings('ignore')"
   ]
  },
  {
   "cell_type": "code",
   "execution_count": 2,
   "id": "806ffa23",
   "metadata": {},
   "outputs": [],
   "source": [
    "path = 'c:/Users/stavr/Downloads/Test_sample.csv'"
   ]
  },
  {
   "cell_type": "code",
   "execution_count": 3,
   "id": "25841504",
   "metadata": {},
   "outputs": [],
   "source": [
    "df = pd.read_csv(path, sep='~')"
   ]
  },
  {
   "cell_type": "markdown",
   "id": "7bd75742",
   "metadata": {},
   "source": [
    "#### Предобработка"
   ]
  },
  {
   "cell_type": "code",
   "execution_count": 4,
   "id": "ba5e8741",
   "metadata": {},
   "outputs": [],
   "source": [
    "df_0 = df.copy()"
   ]
  },
  {
   "cell_type": "code",
   "execution_count": 28,
   "id": "bfcae305",
   "metadata": {},
   "outputs": [
    {
     "data": {
      "text/html": [
       "<div>\n",
       "<style scoped>\n",
       "    .dataframe tbody tr th:only-of-type {\n",
       "        vertical-align: middle;\n",
       "    }\n",
       "\n",
       "    .dataframe tbody tr th {\n",
       "        vertical-align: top;\n",
       "    }\n",
       "\n",
       "    .dataframe thead th {\n",
       "        text-align: right;\n",
       "    }\n",
       "</style>\n",
       "<table border=\"1\" class=\"dataframe\">\n",
       "  <thead>\n",
       "    <tr style=\"text-align: right;\">\n",
       "      <th></th>\n",
       "      <th>Unnamed: 0</th>\n",
       "      <th>time</th>\n",
       "      <th>id</th>\n",
       "      <th>title</th>\n",
       "      <th>brand_id</th>\n",
       "      <th>brand_name</th>\n",
       "      <th>price_base</th>\n",
       "      <th>price_final</th>\n",
       "      <th>price_discount</th>\n",
       "      <th>rating_value</th>\n",
       "      <th>...</th>\n",
       "      <th>is_personalized</th>\n",
       "      <th>is_promoted_product</th>\n",
       "      <th>is_new</th>\n",
       "      <th>is_bestseller</th>\n",
       "      <th>in_stock</th>\n",
       "      <th>session_id</th>\n",
       "      <th>data_source</th>\n",
       "      <th>sale_id</th>\n",
       "      <th>flag_id</th>\n",
       "      <th>sum_sale</th>\n",
       "    </tr>\n",
       "  </thead>\n",
       "  <tbody>\n",
       "    <tr>\n",
       "      <th>325829</th>\n",
       "      <td>325829</td>\n",
       "      <td>2021-07-14 21:15:13+03:00</td>\n",
       "      <td>7317851</td>\n",
       "      <td>D-Link DES-1008D/RU коммутатор</td>\n",
       "      <td>26303099</td>\n",
       "      <td>D-Link</td>\n",
       "      <td>1140.0</td>\n",
       "      <td>1140</td>\n",
       "      <td>0.0</td>\n",
       "      <td>0.0</td>\n",
       "      <td>...</td>\n",
       "      <td>0</td>\n",
       "      <td>0</td>\n",
       "      <td>0</td>\n",
       "      <td>0</td>\n",
       "      <td>5</td>\n",
       "      <td>1626278536</td>\n",
       "      <td>python-v2.0</td>\n",
       "      <td>0</td>\n",
       "      <td>0</td>\n",
       "      <td>0</td>\n",
       "    </tr>\n",
       "    <tr>\n",
       "      <th>325830</th>\n",
       "      <td>325830</td>\n",
       "      <td>2021-07-14 23:57:06+03:00</td>\n",
       "      <td>7317851</td>\n",
       "      <td>D-Link DES-1008D/RU коммутатор</td>\n",
       "      <td>26303099</td>\n",
       "      <td>D-Link</td>\n",
       "      <td>1150.0</td>\n",
       "      <td>1150</td>\n",
       "      <td>0.0</td>\n",
       "      <td>0.0</td>\n",
       "      <td>...</td>\n",
       "      <td>0</td>\n",
       "      <td>0</td>\n",
       "      <td>0</td>\n",
       "      <td>0</td>\n",
       "      <td>5</td>\n",
       "      <td>1626289336</td>\n",
       "      <td>python-v2.0</td>\n",
       "      <td>0</td>\n",
       "      <td>0</td>\n",
       "      <td>0</td>\n",
       "    </tr>\n",
       "    <tr>\n",
       "      <th>268216</th>\n",
       "      <td>268216</td>\n",
       "      <td>2021-07-15 18:57:25+03:00</td>\n",
       "      <td>7317851</td>\n",
       "      <td>D-Link DES-1008D/RU коммутатор</td>\n",
       "      <td>26303099</td>\n",
       "      <td>D-Link</td>\n",
       "      <td>1150.0</td>\n",
       "      <td>1150</td>\n",
       "      <td>0.0</td>\n",
       "      <td>0.0</td>\n",
       "      <td>...</td>\n",
       "      <td>0</td>\n",
       "      <td>0</td>\n",
       "      <td>0</td>\n",
       "      <td>0</td>\n",
       "      <td>5</td>\n",
       "      <td>1626354136</td>\n",
       "      <td>python-v2.0</td>\n",
       "      <td>0</td>\n",
       "      <td>0</td>\n",
       "      <td>0</td>\n",
       "    </tr>\n",
       "  </tbody>\n",
       "</table>\n",
       "<p>3 rows × 41 columns</p>\n",
       "</div>"
      ],
      "text/plain": [
       "        Unnamed: 0                       time       id  \\\n",
       "325829      325829  2021-07-14 21:15:13+03:00  7317851   \n",
       "325830      325830  2021-07-14 23:57:06+03:00  7317851   \n",
       "268216      268216  2021-07-15 18:57:25+03:00  7317851   \n",
       "\n",
       "                                 title  brand_id brand_name  price_base  \\\n",
       "325829  D-Link DES-1008D/RU коммутатор  26303099     D-Link      1140.0   \n",
       "325830  D-Link DES-1008D/RU коммутатор  26303099     D-Link      1150.0   \n",
       "268216  D-Link DES-1008D/RU коммутатор  26303099     D-Link      1150.0   \n",
       "\n",
       "        price_final  price_discount  rating_value  ...  is_personalized  \\\n",
       "325829         1140             0.0           0.0  ...                0   \n",
       "325830         1150             0.0           0.0  ...                0   \n",
       "268216         1150             0.0           0.0  ...                0   \n",
       "\n",
       "        is_promoted_product  is_new is_bestseller  in_stock  session_id  \\\n",
       "325829                    0       0             0         5  1626278536   \n",
       "325830                    0       0             0         5  1626289336   \n",
       "268216                    0       0             0         5  1626354136   \n",
       "\n",
       "        data_source  sale_id flag_id sum_sale  \n",
       "325829  python-v2.0        0       0        0  \n",
       "325830  python-v2.0        0       0        0  \n",
       "268216  python-v2.0        0       0        0  \n",
       "\n",
       "[3 rows x 41 columns]"
      ]
     },
     "execution_count": 28,
     "metadata": {},
     "output_type": "execute_result"
    }
   ],
   "source": [
    "# создали дф для подсчета продаж\n",
    "df_sale = df_0.sort_values(by=['id','time'])\n",
    "df_sale['sale_id'] = 0\n",
    "df_sale['flag_id'] = 0\n",
    "df_sale['sum_sale'] = 0\n",
    "df_sale.reset_index()\n",
    "df_sale.head(3)"
   ]
  },
  {
   "cell_type": "code",
   "execution_count": 6,
   "id": "ef4288ef",
   "metadata": {},
   "outputs": [],
   "source": [
    "#2 Посчитаем продажи (вычислим разницу остатков до сессии и после сессии)\n",
    "# сдвинем колонку остатков вниз, вычтем из остатков сдвинутый столбец и вернем результаты снова вверх \n",
    "# в качестве флага подтянем номер id товара (по нему будем проверять прежде чем считать продажу)\n",
    "df_sale['_slide_stock'] = df_sale['in_stock'].shift(1, fill_value=0)\n",
    "df_sale['flag_id'] = df_sale['id'].shift(1, fill_value=0)\n",
    "\n",
    "df_sale.loc[df_sale['id'] == df_sale['flag_id'], 'sale_id'] = (df_sale.in_stock - df_sale._slide_stock) \n",
    "df_sale['sale_id'] = df_sale['sale_id'].shift(-1, fill_value=0) # сдвигаем к дате сессии\n",
    "# df_sale"
   ]
  },
  {
   "cell_type": "code",
   "execution_count": 7,
   "id": "1401fb15",
   "metadata": {},
   "outputs": [],
   "source": [
    "# введем признак, определяющий сумму продажи:\n",
    "df_sale.loc[df_sale['sale_id'] < 0, 'sum_sale'] = df_sale.price_final * df_sale.sale_id * (-1)"
   ]
  },
  {
   "cell_type": "code",
   "execution_count": 8,
   "id": "4b957f35",
   "metadata": {},
   "outputs": [
    {
     "name": "stdout",
     "output_type": "stream",
     "text": [
      " Выручка за мес.(млн.) = 2034.479256\n"
     ]
    }
   ],
   "source": [
    "# Выручка за мес.\n",
    "total_sum = df_sale.sum_sale.sum()/1000000\n",
    "print(f' Выручка за мес.(млн.) = {total_sum}')\n"
   ]
  },
  {
   "cell_type": "markdown",
   "id": "1c95696e",
   "metadata": {},
   "source": [
    "#### Task_1 Рассчитать продажи за день по каждому товару"
   ]
  },
  {
   "cell_type": "code",
   "execution_count": 9,
   "id": "d01ccd41",
   "metadata": {},
   "outputs": [],
   "source": [
    "df_sale_day = df_sale[['time', 'id', 'title', 'brand_id', 'brand_name',\n",
    "                      'price_final', 'in_stock','session_id', 'data_source', 'sale_id', 'sum_sale']]"
   ]
  },
  {
   "cell_type": "code",
   "execution_count": 10,
   "id": "6ab6cade",
   "metadata": {},
   "outputs": [
    {
     "data": {
      "text/html": [
       "<div>\n",
       "<style scoped>\n",
       "    .dataframe tbody tr th:only-of-type {\n",
       "        vertical-align: middle;\n",
       "    }\n",
       "\n",
       "    .dataframe tbody tr th {\n",
       "        vertical-align: top;\n",
       "    }\n",
       "\n",
       "    .dataframe thead th {\n",
       "        text-align: right;\n",
       "    }\n",
       "</style>\n",
       "<table border=\"1\" class=\"dataframe\">\n",
       "  <thead>\n",
       "    <tr style=\"text-align: right;\">\n",
       "      <th></th>\n",
       "      <th>time</th>\n",
       "      <th>id</th>\n",
       "      <th>title</th>\n",
       "      <th>brand_id</th>\n",
       "      <th>brand_name</th>\n",
       "      <th>price_final</th>\n",
       "      <th>in_stock</th>\n",
       "      <th>session_id</th>\n",
       "      <th>data_source</th>\n",
       "      <th>sale_id</th>\n",
       "      <th>sum_sale</th>\n",
       "    </tr>\n",
       "  </thead>\n",
       "  <tbody>\n",
       "    <tr>\n",
       "      <th>325829</th>\n",
       "      <td>2021-07-14 21:15:13+03:00</td>\n",
       "      <td>7317851</td>\n",
       "      <td>D-Link DES-1008D/RU коммутатор</td>\n",
       "      <td>26303099</td>\n",
       "      <td>D-Link</td>\n",
       "      <td>1140</td>\n",
       "      <td>5</td>\n",
       "      <td>1626278536</td>\n",
       "      <td>python-v2.0</td>\n",
       "      <td>0</td>\n",
       "      <td>0</td>\n",
       "    </tr>\n",
       "    <tr>\n",
       "      <th>325830</th>\n",
       "      <td>2021-07-14 23:57:06+03:00</td>\n",
       "      <td>7317851</td>\n",
       "      <td>D-Link DES-1008D/RU коммутатор</td>\n",
       "      <td>26303099</td>\n",
       "      <td>D-Link</td>\n",
       "      <td>1150</td>\n",
       "      <td>5</td>\n",
       "      <td>1626289336</td>\n",
       "      <td>python-v2.0</td>\n",
       "      <td>0</td>\n",
       "      <td>0</td>\n",
       "    </tr>\n",
       "    <tr>\n",
       "      <th>268216</th>\n",
       "      <td>2021-07-15 18:57:25+03:00</td>\n",
       "      <td>7317851</td>\n",
       "      <td>D-Link DES-1008D/RU коммутатор</td>\n",
       "      <td>26303099</td>\n",
       "      <td>D-Link</td>\n",
       "      <td>1150</td>\n",
       "      <td>5</td>\n",
       "      <td>1626354136</td>\n",
       "      <td>python-v2.0</td>\n",
       "      <td>0</td>\n",
       "      <td>0</td>\n",
       "    </tr>\n",
       "  </tbody>\n",
       "</table>\n",
       "</div>"
      ],
      "text/plain": [
       "                             time       id                           title  \\\n",
       "325829  2021-07-14 21:15:13+03:00  7317851  D-Link DES-1008D/RU коммутатор   \n",
       "325830  2021-07-14 23:57:06+03:00  7317851  D-Link DES-1008D/RU коммутатор   \n",
       "268216  2021-07-15 18:57:25+03:00  7317851  D-Link DES-1008D/RU коммутатор   \n",
       "\n",
       "        brand_id brand_name  price_final  in_stock  session_id  data_source  \\\n",
       "325829  26303099     D-Link         1140         5  1626278536  python-v2.0   \n",
       "325830  26303099     D-Link         1150         5  1626289336  python-v2.0   \n",
       "268216  26303099     D-Link         1150         5  1626354136  python-v2.0   \n",
       "\n",
       "        sale_id  sum_sale  \n",
       "325829        0         0  \n",
       "325830        0         0  \n",
       "268216        0         0  "
      ]
     },
     "execution_count": 10,
     "metadata": {},
     "output_type": "execute_result"
    }
   ],
   "source": [
    "df_sale_day.head(3)"
   ]
  },
  {
   "cell_type": "code",
   "execution_count": 11,
   "id": "c13d6b18",
   "metadata": {},
   "outputs": [],
   "source": [
    "# преобразуем формат поля time в дату-время (новый признак _time_d)\n",
    "df_sale_day['_time_d'] = pd.to_datetime(df_sale_day['time'], format=\"%Y/%m/%d %H:%M:%S\")\n",
    "# (получим новый признак даты _day)\n",
    "df_sale_day['_day'] = pd.DatetimeIndex(df_sale_day['_time_d']).day"
   ]
  },
  {
   "cell_type": "code",
   "execution_count": 12,
   "id": "0939b7d6",
   "metadata": {},
   "outputs": [
    {
     "data": {
      "text/html": [
       "<div>\n",
       "<style scoped>\n",
       "    .dataframe tbody tr th:only-of-type {\n",
       "        vertical-align: middle;\n",
       "    }\n",
       "\n",
       "    .dataframe tbody tr th {\n",
       "        vertical-align: top;\n",
       "    }\n",
       "\n",
       "    .dataframe thead th {\n",
       "        text-align: right;\n",
       "    }\n",
       "</style>\n",
       "<table border=\"1\" class=\"dataframe\">\n",
       "  <thead>\n",
       "    <tr style=\"text-align: right;\">\n",
       "      <th></th>\n",
       "      <th>time</th>\n",
       "      <th>id</th>\n",
       "      <th>title</th>\n",
       "      <th>brand_id</th>\n",
       "      <th>brand_name</th>\n",
       "      <th>price_final</th>\n",
       "      <th>in_stock</th>\n",
       "      <th>session_id</th>\n",
       "      <th>data_source</th>\n",
       "      <th>sale_id</th>\n",
       "      <th>sum_sale</th>\n",
       "      <th>_time_d</th>\n",
       "      <th>_day</th>\n",
       "    </tr>\n",
       "  </thead>\n",
       "  <tbody>\n",
       "    <tr>\n",
       "      <th>325829</th>\n",
       "      <td>2021-07-14 21:15:13+03:00</td>\n",
       "      <td>7317851</td>\n",
       "      <td>D-Link DES-1008D/RU коммутатор</td>\n",
       "      <td>26303099</td>\n",
       "      <td>D-Link</td>\n",
       "      <td>1140</td>\n",
       "      <td>5</td>\n",
       "      <td>1626278536</td>\n",
       "      <td>python-v2.0</td>\n",
       "      <td>0</td>\n",
       "      <td>0</td>\n",
       "      <td>2021-07-14 21:15:13+03:00</td>\n",
       "      <td>14</td>\n",
       "    </tr>\n",
       "    <tr>\n",
       "      <th>325830</th>\n",
       "      <td>2021-07-14 23:57:06+03:00</td>\n",
       "      <td>7317851</td>\n",
       "      <td>D-Link DES-1008D/RU коммутатор</td>\n",
       "      <td>26303099</td>\n",
       "      <td>D-Link</td>\n",
       "      <td>1150</td>\n",
       "      <td>5</td>\n",
       "      <td>1626289336</td>\n",
       "      <td>python-v2.0</td>\n",
       "      <td>0</td>\n",
       "      <td>0</td>\n",
       "      <td>2021-07-14 23:57:06+03:00</td>\n",
       "      <td>14</td>\n",
       "    </tr>\n",
       "  </tbody>\n",
       "</table>\n",
       "</div>"
      ],
      "text/plain": [
       "                             time       id                           title  \\\n",
       "325829  2021-07-14 21:15:13+03:00  7317851  D-Link DES-1008D/RU коммутатор   \n",
       "325830  2021-07-14 23:57:06+03:00  7317851  D-Link DES-1008D/RU коммутатор   \n",
       "\n",
       "        brand_id brand_name  price_final  in_stock  session_id  data_source  \\\n",
       "325829  26303099     D-Link         1140         5  1626278536  python-v2.0   \n",
       "325830  26303099     D-Link         1150         5  1626289336  python-v2.0   \n",
       "\n",
       "        sale_id  sum_sale                   _time_d  _day  \n",
       "325829        0         0 2021-07-14 21:15:13+03:00    14  \n",
       "325830        0         0 2021-07-14 23:57:06+03:00    14  "
      ]
     },
     "execution_count": 12,
     "metadata": {},
     "output_type": "execute_result"
    }
   ],
   "source": [
    "df_sale_day.head(2)"
   ]
  },
  {
   "cell_type": "code",
   "execution_count": 13,
   "id": "e7b66a30",
   "metadata": {},
   "outputs": [
    {
     "data": {
      "text/plain": [
       "164450254"
      ]
     },
     "execution_count": 13,
     "metadata": {},
     "output_type": "execute_result"
    }
   ],
   "source": [
    "# выручка за 01.07.2021 \n",
    "df_sale_day.loc[df_sale_day['_day'] == 1].sum_sale.sum()"
   ]
  },
  {
   "cell_type": "code",
   "execution_count": 30,
   "id": "8d6a529b",
   "metadata": {},
   "outputs": [
    {
     "data": {
      "text/html": [
       "<div>\n",
       "<style scoped>\n",
       "    .dataframe tbody tr th:only-of-type {\n",
       "        vertical-align: middle;\n",
       "    }\n",
       "\n",
       "    .dataframe tbody tr th {\n",
       "        vertical-align: top;\n",
       "    }\n",
       "\n",
       "    .dataframe thead th {\n",
       "        text-align: right;\n",
       "    }\n",
       "</style>\n",
       "<table border=\"1\" class=\"dataframe\">\n",
       "  <thead>\n",
       "    <tr style=\"text-align: right;\">\n",
       "      <th></th>\n",
       "      <th></th>\n",
       "      <th>sum_sale</th>\n",
       "    </tr>\n",
       "    <tr>\n",
       "      <th>_day</th>\n",
       "      <th>id</th>\n",
       "      <th></th>\n",
       "    </tr>\n",
       "  </thead>\n",
       "  <tbody>\n",
       "    <tr>\n",
       "      <th rowspan=\"4\" valign=\"top\">1</th>\n",
       "      <th>7317861</th>\n",
       "      <td>818</td>\n",
       "    </tr>\n",
       "    <tr>\n",
       "      <th>7317867</th>\n",
       "      <td>1344</td>\n",
       "    </tr>\n",
       "    <tr>\n",
       "      <th>7317901</th>\n",
       "      <td>1070</td>\n",
       "    </tr>\n",
       "    <tr>\n",
       "      <th>7317902</th>\n",
       "      <td>590</td>\n",
       "    </tr>\n",
       "  </tbody>\n",
       "</table>\n",
       "</div>"
      ],
      "text/plain": [
       "              sum_sale\n",
       "_day id               \n",
       "1    7317861       818\n",
       "     7317867      1344\n",
       "     7317901      1070\n",
       "     7317902       590"
      ]
     },
     "execution_count": 30,
     "metadata": {},
     "output_type": "execute_result"
    }
   ],
   "source": [
    "# Можно выбросить из рассмотрения сесси без продаж (полностью строку сессии), но тогда мы сократим объем данных \n",
    "# поэтому Рассчитывать продажи за день по каждому товару будем с учетом непроданных товаров.\n",
    "\n",
    "# df_sale_day = df_sale_day.loc[df_sale_day['sum_sale'] != 0] # для расчета только купленных позиций - снять кометарий\n",
    "\n",
    "# 1. Рассчитать продажи за день по каждому товару\n",
    "task_1 = df_sale_day.groupby(['_day', 'id']).sum_sale.sum()\n",
    "task_1_df = pd.DataFrame(df_sale_day.groupby(['_day', 'id']).sum_sale.sum())\n",
    "task_1_df.head(4)"
   ]
  },
  {
   "cell_type": "markdown",
   "id": "cb3303e0",
   "metadata": {},
   "source": [
    "#### Task_2 Выявить топ 10 брендов по выручке, топ 10 продаваемых товаров"
   ]
  },
  {
   "cell_type": "code",
   "execution_count": 15,
   "id": "65ec707b",
   "metadata": {},
   "outputs": [],
   "source": [
    "df_sale_brand = df_sale[['time', 'id', 'title', 'brand_id', 'brand_name',\n",
    "                      'price_final', 'in_stock','session_id', 'data_source', 'sale_id', 'sum_sale']]"
   ]
  },
  {
   "cell_type": "code",
   "execution_count": 16,
   "id": "6bf69c1f",
   "metadata": {},
   "outputs": [
    {
     "name": "stdout",
     "output_type": "stream",
     "text": [
      "В датафрейме в поле \"brand_name\" пропущено 7.95% данных\n"
     ]
    }
   ],
   "source": [
    "# посчитаем пропуски в наименовании бренда\n",
    "df_sale_brand.brand_name.isna().sum()\n",
    "print(f'В датафрейме в поле \"brand_name\" пропущено {round((df_sale_brand.brand_name.isna().sum()/df_sale_brand.shape[0])*100,2)}% данных')"
   ]
  },
  {
   "cell_type": "code",
   "execution_count": 17,
   "id": "9529c99f",
   "metadata": {},
   "outputs": [],
   "source": [
    "# заменим пропуски в наименовании бренда на \"Noname\"\n",
    "df_sale_brand.loc[df_sale_brand['brand_name'].isna(), 'brand_name'] = 'Noname'\n",
    "# df_sale_brand.loc[df_sale_brand.brand_name == 'Noname']"
   ]
  },
  {
   "cell_type": "code",
   "execution_count": 31,
   "id": "43c6da80",
   "metadata": {},
   "outputs": [
    {
     "data": {
      "text/html": [
       "<div>\n",
       "<style scoped>\n",
       "    .dataframe tbody tr th:only-of-type {\n",
       "        vertical-align: middle;\n",
       "    }\n",
       "\n",
       "    .dataframe tbody tr th {\n",
       "        vertical-align: top;\n",
       "    }\n",
       "\n",
       "    .dataframe thead th {\n",
       "        text-align: right;\n",
       "    }\n",
       "</style>\n",
       "<table border=\"1\" class=\"dataframe\">\n",
       "  <thead>\n",
       "    <tr style=\"text-align: right;\">\n",
       "      <th></th>\n",
       "      <th>sum_sale</th>\n",
       "    </tr>\n",
       "    <tr>\n",
       "      <th>brand_name</th>\n",
       "      <th></th>\n",
       "    </tr>\n",
       "  </thead>\n",
       "  <tbody>\n",
       "    <tr>\n",
       "      <th>MIKROTIK</th>\n",
       "      <td>324360345</td>\n",
       "    </tr>\n",
       "    <tr>\n",
       "      <th>UBIQUITI</th>\n",
       "      <td>230695188</td>\n",
       "    </tr>\n",
       "    <tr>\n",
       "      <th>TP-Link</th>\n",
       "      <td>168489843</td>\n",
       "    </tr>\n",
       "    <tr>\n",
       "      <th>D-Link</th>\n",
       "      <td>149216268</td>\n",
       "    </tr>\n",
       "  </tbody>\n",
       "</table>\n",
       "</div>"
      ],
      "text/plain": [
       "             sum_sale\n",
       "brand_name           \n",
       "MIKROTIK    324360345\n",
       "UBIQUITI    230695188\n",
       "TP-Link     168489843\n",
       "D-Link      149216268"
      ]
     },
     "execution_count": 31,
     "metadata": {},
     "output_type": "execute_result"
    }
   ],
   "source": [
    "# Определим топ 10 брендов по выручке\n",
    "task_2_a = pd.DataFrame(df_sale_brand.groupby(['brand_name']).sum_sale.sum().sort_values(ascending=False).head(10))\n",
    "task_2_a.head(4)"
   ]
  },
  {
   "cell_type": "code",
   "execution_count": 32,
   "id": "5466fc1d",
   "metadata": {},
   "outputs": [
    {
     "data": {
      "text/html": [
       "<div>\n",
       "<style scoped>\n",
       "    .dataframe tbody tr th:only-of-type {\n",
       "        vertical-align: middle;\n",
       "    }\n",
       "\n",
       "    .dataframe tbody tr th {\n",
       "        vertical-align: top;\n",
       "    }\n",
       "\n",
       "    .dataframe thead th {\n",
       "        text-align: right;\n",
       "    }\n",
       "</style>\n",
       "<table border=\"1\" class=\"dataframe\">\n",
       "  <thead>\n",
       "    <tr style=\"text-align: right;\">\n",
       "      <th></th>\n",
       "      <th></th>\n",
       "      <th>sum_sale</th>\n",
       "    </tr>\n",
       "    <tr>\n",
       "      <th>title</th>\n",
       "      <th>id</th>\n",
       "      <th></th>\n",
       "    </tr>\n",
       "  </thead>\n",
       "  <tbody>\n",
       "    <tr>\n",
       "      <th>Коммутатор UBIQUITI US-48-500W</th>\n",
       "      <th>277935653</th>\n",
       "      <td>44137365</td>\n",
       "    </tr>\n",
       "    <tr>\n",
       "      <th>Ubiquiti Networks UniFi Dream Machine Pro Управляемый Gigabit Ethernet (10/100/1000) Белый UDM-PRO</th>\n",
       "      <th>278288884</th>\n",
       "      <td>35721135</td>\n",
       "    </tr>\n",
       "    <tr>\n",
       "      <th>Коммутатор (switch) MikroTik CRS354-48P-4S+2Q+RM (CRS354-48P-4S+2Q+RM)</th>\n",
       "      <th>207507755</th>\n",
       "      <td>29901991</td>\n",
       "    </tr>\n",
       "    <tr>\n",
       "      <th>Точка доступа MIKROTIK RBD53iG-5HacD2HnD</th>\n",
       "      <th>229486865</th>\n",
       "      <td>28374242</td>\n",
       "    </tr>\n",
       "  </tbody>\n",
       "</table>\n",
       "</div>"
      ],
      "text/plain": [
       "                                                              sum_sale\n",
       "title                                              id                 \n",
       "Коммутатор UBIQUITI US-48-500W                     277935653  44137365\n",
       "Ubiquiti Networks UniFi Dream Machine Pro Управ... 278288884  35721135\n",
       "Коммутатор (switch) MikroTik CRS354-48P-4S+2Q+R... 207507755  29901991\n",
       "Точка доступа MIKROTIK RBD53iG-5HacD2HnD           229486865  28374242"
      ]
     },
     "execution_count": 32,
     "metadata": {},
     "output_type": "execute_result"
    }
   ],
   "source": [
    "# Определим топ 10 товаров по выручке \n",
    "task_2_b = pd.DataFrame(df_sale_brand.groupby(['title', 'id']).sum_sale.sum().sort_values(ascending=False).head(10))\n",
    "task_2_b.head(4)"
   ]
  },
  {
   "cell_type": "markdown",
   "id": "ba9849ec",
   "metadata": {},
   "source": [
    "#### Task_3 Выявить топ товаров, приносящих 80% выручки"
   ]
  },
  {
   "cell_type": "code",
   "execution_count": 20,
   "id": "12889b28",
   "metadata": {},
   "outputs": [],
   "source": [
    "df_sale_top = df_sale[['time', 'id', 'title', 'brand_id', 'brand_name',\n",
    "                      'price_final', 'in_stock','session_id', 'data_source', 'sale_id', 'sum_sale']]"
   ]
  },
  {
   "cell_type": "code",
   "execution_count": 21,
   "id": "177b2b6e",
   "metadata": {},
   "outputs": [
    {
     "name": "stdout",
     "output_type": "stream",
     "text": [
      "Общая выручка =  2034479256\n"
     ]
    }
   ],
   "source": [
    "# общая выручка (так, для интереса)\n",
    "total_sum = df_sale_top.groupby(['id']).sum_sale.sum().sum()\n",
    "print('Общая выручка = ', total_sum)"
   ]
  },
  {
   "cell_type": "code",
   "execution_count": 22,
   "id": "7ea46134",
   "metadata": {},
   "outputs": [],
   "source": [
    "# расположим в порядке убывания id товаров и суммы их продаж \n",
    "df_id_total_sum = pd.DataFrame(df_sale_top.groupby(['id']).sum_sale.sum().sort_values(ascending=False))"
   ]
  },
  {
   "cell_type": "code",
   "execution_count": 23,
   "id": "fddc9301",
   "metadata": {},
   "outputs": [
    {
     "data": {
      "text/plain": [
       "22444.600000000028"
      ]
     },
     "execution_count": 23,
     "metadata": {},
     "output_type": "execute_result"
    }
   ],
   "source": [
    "# определим квантиль 0.8 и по нему отделим id, дающие 80% выручку \n",
    "quants = [0.8] \n",
    "q = df_id_total_sum.quantile(quants).iloc[0,0]\n",
    "q"
   ]
  },
  {
   "cell_type": "code",
   "execution_count": 24,
   "id": "41f9f362",
   "metadata": {},
   "outputs": [
    {
     "name": "stdout",
     "output_type": "stream",
     "text": [
      "Топ товаров, приносящих 80% выручки, состоит из 4972 позиций: \n",
      "\n",
      "             id\n",
      "0     277935653\n",
      "1     278288884\n",
      "2     207507755\n",
      "3     229486865\n",
      "4     278103109\n",
      "...         ...\n",
      "4967  224617239\n",
      "4968  292938854\n",
      "4969  241527060\n",
      "4970  287204931\n",
      "4971  173274158\n",
      "\n",
      "[4972 rows x 1 columns]\n"
     ]
    }
   ],
   "source": [
    "# отберем id, которые вошли в квантиль 0,8 (выполнили 80% выручки)\n",
    "task_3 = pd.DataFrame(df_id_total_sum.loc[df_id_total_sum.sum_sale > q].index)\n",
    "print(f'Топ товаров, приносящих 80% выручки, состоит из {len(task_3)} позиций: \\n\\n{task_3}')"
   ]
  },
  {
   "cell_type": "code",
   "execution_count": null,
   "id": "4d6a7f40",
   "metadata": {},
   "outputs": [],
   "source": []
  },
  {
   "cell_type": "markdown",
   "id": "7d2aef8f",
   "metadata": {},
   "source": [
    "#### Task_4 Построить график продаж от времени (опционально)"
   ]
  },
  {
   "cell_type": "code",
   "execution_count": 25,
   "id": "b76fbad7",
   "metadata": {},
   "outputs": [],
   "source": [
    "# График продаж по датам\n",
    "task_5 = df_sale_day.groupby('_day').sum_sale.sum()\n",
    "task_5 = round(task_5/1000000, 2)\n",
    "task_5 = pd.DataFrame(task_5)\n",
    "# task_5.sum_sale"
   ]
  },
  {
   "cell_type": "code",
   "execution_count": 26,
   "id": "a8f9a143",
   "metadata": {},
   "outputs": [
    {
     "data": {
      "image/png": "[encoded data removed]",
      "text/plain": [
       "<Figure size 864x432 with 1 Axes>"
      ]
     },
     "metadata": {
      "needs_background": "light"
     },
     "output_type": "display_data"
    }
   ],
   "source": [
    "# Построение графика\n",
    "fig, ax = plt.subplots(figsize=(12, 6))\n",
    "plt.plot(task_5,  'g')\n",
    "plt.title('График продаж по датам') \n",
    "plt.xlabel('Даты') # ось абсцисс\n",
    "plt.ylabel('Выручка (млн.руб)') # ось ординат\n",
    "plt.grid()  \n",
    "plt.show()"
   ]
  },
  {
   "cell_type": "code",
   "execution_count": 43,
   "id": "206bcd80",
   "metadata": {},
   "outputs": [
    {
     "data": {
      "image/png": "[encoded data removed]",
      "text/plain": [
       "<Figure size 864x432 with 2 Axes>"
      ]
     },
     "metadata": {
      "needs_background": "light"
     },
     "output_type": "display_data"
    }
   ],
   "source": [
    "# Построение графика\n",
    "fig, ax = plt.subplots(nrows=2, ncols=1)\n",
    "fig.set_size_inches(12, 6)\n",
    "fig.subplots_adjust(hspace=0.25)\n",
    "ax[0].plot(task_5,  'g')\n",
    "plt.grid() \n",
    "ax[1].plot(task_5,  'r')\n",
    "plt.xticks(range(31), ['чт', 'пт', 'сб', 'вс', \n",
    "                  'пн', 'вт', 'ср', 'чт', 'пт', 'сб', 'вс', \n",
    "                  'пн', 'вт', 'ср', 'чт', 'пт', 'сб', 'вс',\n",
    "                  'пн', 'вт', 'ср', 'чт', 'пт', 'сб', 'вс',\n",
    "                   'пн', 'вт', 'ср','чт', 'пт', 'сб'  ]),\n",
    "\n",
    "plt.show()\n"
   ]
  },
  {
   "cell_type": "code",
   "execution_count": 44,
   "id": "d39e118f",
   "metadata": {},
   "outputs": [
    {
     "data": {
      "text/html": [
       "<div>\n",
       "<style scoped>\n",
       "    .dataframe tbody tr th:only-of-type {\n",
       "        vertical-align: middle;\n",
       "    }\n",
       "\n",
       "    .dataframe tbody tr th {\n",
       "        vertical-align: top;\n",
       "    }\n",
       "\n",
       "    .dataframe thead th {\n",
       "        text-align: right;\n",
       "    }\n",
       "</style>\n",
       "<table border=\"1\" class=\"dataframe\">\n",
       "  <thead>\n",
       "    <tr style=\"text-align: right;\">\n",
       "      <th></th>\n",
       "      <th>time</th>\n",
       "      <th>id</th>\n",
       "      <th>title</th>\n",
       "      <th>brand_id</th>\n",
       "      <th>brand_name</th>\n",
       "      <th>price_final</th>\n",
       "      <th>in_stock</th>\n",
       "      <th>session_id</th>\n",
       "      <th>data_source</th>\n",
       "      <th>sale_id</th>\n",
       "      <th>sum_sale</th>\n",
       "      <th>_time_d</th>\n",
       "      <th>_day</th>\n",
       "    </tr>\n",
       "  </thead>\n",
       "  <tbody>\n",
       "    <tr>\n",
       "      <th>325829</th>\n",
       "      <td>2021-07-14 21:15:13+03:00</td>\n",
       "      <td>7317851</td>\n",
       "      <td>D-Link DES-1008D/RU коммутатор</td>\n",
       "      <td>26303099</td>\n",
       "      <td>D-Link</td>\n",
       "      <td>1140</td>\n",
       "      <td>5</td>\n",
       "      <td>1626278536</td>\n",
       "      <td>python-v2.0</td>\n",
       "      <td>0</td>\n",
       "      <td>0</td>\n",
       "      <td>2021-07-14 21:15:13+03:00</td>\n",
       "      <td>14</td>\n",
       "    </tr>\n",
       "    <tr>\n",
       "      <th>325830</th>\n",
       "      <td>2021-07-14 23:57:06+03:00</td>\n",
       "      <td>7317851</td>\n",
       "      <td>D-Link DES-1008D/RU коммутатор</td>\n",
       "      <td>26303099</td>\n",
       "      <td>D-Link</td>\n",
       "      <td>1150</td>\n",
       "      <td>5</td>\n",
       "      <td>1626289336</td>\n",
       "      <td>python-v2.0</td>\n",
       "      <td>0</td>\n",
       "      <td>0</td>\n",
       "      <td>2021-07-14 23:57:06+03:00</td>\n",
       "      <td>14</td>\n",
       "    </tr>\n",
       "  </tbody>\n",
       "</table>\n",
       "</div>"
      ],
      "text/plain": [
       "                             time       id                           title  \\\n",
       "325829  2021-07-14 21:15:13+03:00  7317851  D-Link DES-1008D/RU коммутатор   \n",
       "325830  2021-07-14 23:57:06+03:00  7317851  D-Link DES-1008D/RU коммутатор   \n",
       "\n",
       "        brand_id brand_name  price_final  in_stock  session_id  data_source  \\\n",
       "325829  26303099     D-Link         1140         5  1626278536  python-v2.0   \n",
       "325830  26303099     D-Link         1150         5  1626289336  python-v2.0   \n",
       "\n",
       "        sale_id  sum_sale                   _time_d  _day  \n",
       "325829        0         0 2021-07-14 21:15:13+03:00    14  \n",
       "325830        0         0 2021-07-14 23:57:06+03:00    14  "
      ]
     },
     "execution_count": 44,
     "metadata": {},
     "output_type": "execute_result"
    }
   ],
   "source": [
    "df_sale_day.head(2)"
   ]
  },
  {
   "cell_type": "code",
   "execution_count": 45,
   "id": "ca918856",
   "metadata": {},
   "outputs": [],
   "source": [
    "# (получим новый признак даты _час)\n",
    "df_sale_day['_hour'] = pd.DatetimeIndex(df_sale_day['_time_d']).hour"
   ]
  },
  {
   "cell_type": "code",
   "execution_count": 46,
   "id": "968dee43",
   "metadata": {},
   "outputs": [
    {
     "data": {
      "text/plain": [
       "_hour\n",
       "0     108.45\n",
       "1      88.45\n",
       "2     101.06\n",
       "3     113.00\n",
       "4      32.58\n",
       "5      37.72\n",
       "6      72.08\n",
       "7      48.31\n",
       "8      87.47\n",
       "9     244.89\n",
       "10    130.42\n",
       "11     62.11\n",
       "12    123.88\n",
       "13    108.67\n",
       "14     82.58\n",
       "15     64.06\n",
       "16     14.66\n",
       "17     74.91\n",
       "18     96.76\n",
       "19     60.35\n",
       "20    115.12\n",
       "21     58.77\n",
       "22     34.56\n",
       "23     73.62\n",
       "Name: sum_sale, dtype: float64"
      ]
     },
     "execution_count": 46,
     "metadata": {},
     "output_type": "execute_result"
    }
   ],
   "source": [
    "task_5_hour = df_sale_day.groupby('_hour').sum_sale.sum()\n",
    "task_5_hour = round(task_5_hour/1000000, 2)\n",
    "task_5_hour"
   ]
  },
  {
   "cell_type": "code",
   "execution_count": 47,
   "id": "bed0c471",
   "metadata": {},
   "outputs": [
    {
     "data": {
      "image/png": "[encoded data removed]",
      "text/plain": [
       "<Figure size 864x432 with 1 Axes>"
      ]
     },
     "metadata": {
      "needs_background": "light"
     },
     "output_type": "display_data"
    }
   ],
   "source": [
    "fig, ax = plt.subplots(figsize=(12, 6))\n",
    "\n",
    "plt.plot(task_5_hour,  ':o')\n",
    "plt.title('График интенсивности продаж по часам') \n",
    "plt.xlabel('Часы') \n",
    "plt.ylabel('Выручка (млн.руб)') \n",
    "\n",
    "plt.grid()  \n",
    "plt.show()"
   ]
  },
  {
   "cell_type": "markdown",
   "id": "cd6aca3b",
   "metadata": {},
   "source": [
    " <font size=3 color=red>  **Пик продаж 9 утра**"
   ]
  },
  {
   "cell_type": "code",
   "execution_count": 48,
   "id": "c5690ac4",
   "metadata": {},
   "outputs": [],
   "source": [
    "# (получим новый признак даты _weekday)\n",
    "df_sale_day['_weekday'] = pd.DatetimeIndex(df_sale_day['_time_d']).weekday"
   ]
  },
  {
   "cell_type": "code",
   "execution_count": 49,
   "id": "5c0bece1",
   "metadata": {},
   "outputs": [],
   "source": [
    "task_5_week = df_sale_day.groupby('_weekday').sum_sale.sum()\n",
    "task_5_week = round(task_5_week/1000000, 2)"
   ]
  },
  {
   "cell_type": "code",
   "execution_count": 51,
   "id": "7cac753b",
   "metadata": {},
   "outputs": [
    {
     "data": {
      "image/png": "[encoded data removed]",
      "text/plain": [
       "<Figure size 864x432 with 1 Axes>"
      ]
     },
     "metadata": {
      "needs_background": "light"
     },
     "output_type": "display_data"
    }
   ],
   "source": [
    "fig, ax = plt.subplots(figsize=(12, 6))\n",
    "plt.plot(task_5_week,  ':o')\n",
    "plt.title('График интенсивности продаж по дням недели') \n",
    "plt.xlabel('День недели') \n",
    "plt.ylabel('Выручка (млн.руб)') \n",
    "plt.grid()  \n",
    "plt.xticks(range(7), ['пн', 'вт', 'ср', 'чт', 'пт', 'сб', 'вс'])\n",
    "\n",
    "plt.show()"
   ]
  },
  {
   "cell_type": "markdown",
   "id": "8d3ae51f",
   "metadata": {},
   "source": [
    " <font size=3 color=red> **Наибольшие покупки - четверг, пятница**"
   ]
  },
  {
   "cell_type": "markdown",
   "id": "84d57cd2",
   "metadata": {},
   "source": [
    "#### Task_5 Оценить качество данных"
   ]
  },
  {
   "cell_type": "code",
   "execution_count": 52,
   "id": "f294e494",
   "metadata": {},
   "outputs": [
    {
     "data": {
      "text/plain": [
       "Unnamed: 0                  0\n",
       "time                        0\n",
       "id                          0\n",
       "title                       0\n",
       "brand_id                    0\n",
       "brand_name              85456\n",
       "price_base                  0\n",
       "price_final                 0\n",
       "price_discount              0\n",
       "rating_value                0\n",
       "rating_count                0\n",
       "index                       0\n",
       "page_number                 0\n",
       "search_filter               0\n",
       "category_id                 0\n",
       "category_name               0\n",
       "category_count_pages        0\n",
       "category_count_items        0\n",
       "category_path               0\n",
       "category_root_name          0\n",
       "category_lvl1_name          0\n",
       "category_lvl2_name          0\n",
       "delivery_schema             0\n",
       "availability                0\n",
       "seller_id                   0\n",
       "seller_name             10821\n",
       "is_redirect                 0\n",
       "is_premium_only             0\n",
       "is_adult                    0\n",
       "is_alcohol                  0\n",
       "is_supermarket              0\n",
       "is_personalized             0\n",
       "is_promoted_product         0\n",
       "is_new                      0\n",
       "is_bestseller               0\n",
       "in_stock                    0\n",
       "session_id                  0\n",
       "data_source                 0\n",
       "dtype: int64"
      ]
     },
     "execution_count": 52,
     "metadata": {},
     "output_type": "execute_result"
    }
   ],
   "source": [
    "# Пропуски в brand_name = 85456  seller_name  = 10821 \n",
    "df.isna().sum()                     "
   ]
  },
  {
   "cell_type": "code",
   "execution_count": 53,
   "id": "d5e340ab",
   "metadata": {},
   "outputs": [
    {
     "data": {
      "image/png": "[encoded data removed]",
      "text/plain": [
       "<Figure size 1152x1152 with 12 Axes>"
      ]
     },
     "metadata": {
      "needs_background": "light"
     },
     "output_type": "display_data"
    }
   ],
   "source": [
    "# Выбросы (судя по гистограммам session_id и _day - наблюдается провал в данных за 20..25 число) СБОЙ в БД\n",
    "df_sale_day.hist(figsize=(16,16), bins=20, grid=False);"
   ]
  },
  {
   "cell_type": "code",
   "execution_count": 54,
   "id": "37a43df2",
   "metadata": {},
   "outputs": [
    {
     "data": {
      "text/plain": [
       "4164"
      ]
     },
     "execution_count": 54,
     "metadata": {},
     "output_type": "execute_result"
    }
   ],
   "source": [
    "# Некорректные значения в ОСТАТКАХ\n",
    "df_x = df.loc[df.in_stock <0]\n",
    "df_x.shape[0]"
   ]
  },
  {
   "cell_type": "code",
   "execution_count": 55,
   "id": "753993e8",
   "metadata": {},
   "outputs": [
    {
     "data": {
      "text/plain": [
       "1074749"
      ]
     },
     "execution_count": 55,
     "metadata": {},
     "output_type": "execute_result"
    }
   ],
   "source": [
    "df.shape[0]"
   ]
  },
  {
   "cell_type": "code",
   "execution_count": null,
   "id": "add7a07c",
   "metadata": {},
   "outputs": [],
   "source": []
  },
  {
   "cell_type": "markdown",
   "id": "4bbfa2df",
   "metadata": {},
   "source": [
    "#### Task_6 Объяснить полученную картину:\n",
    "**падения и пики на графике продаж\n",
    "как можно улучшить расчет продаж на текущих данных?**"
   ]
  },
  {
   "cell_type": "markdown",
   "id": "d5acb8e5",
   "metadata": {},
   "source": [
    "**Очевидные пики и провалы** - активность пользователей по дням недели (кроме 20..25 - тут провал из-за битых данных)\n",
    "\n",
    "**Как улучшить расчет продаж на текущих данных?**  - попробовать восстановить пропущенные/битые (в бренде и в остатках). Некорректных значений в ОСТАТКАХ 4164. Правда - это всего 0,5%, но все-таки\n",
    "В брендах - 8% пропусков наименований, но восстановить попробовать."
   ]
  },
  {
   "cell_type": "code",
   "execution_count": null,
   "id": "6a5988fe",
   "metadata": {},
   "outputs": [],
   "source": []
  },
  {
   "cell_type": "markdown",
   "id": "b1bbd19a",
   "metadata": {},
   "source": [
    "<font size=3 color=green>\n",
    "Общие вопросы:<br>\n"
   ]
  },
  {
   "cell_type": "markdown",
   "id": "e9c67726",
   "metadata": {},
   "source": [
    "**1.Как будете заполнять пропущенные значения в данных?**\n",
    "- Некорректные данные в остатках - заменить на 0\n",
    "- Пропуски в сессиях \n",
    "  1 вариант (быстрый): восстановить средней медианой по имеющимся дням недели. \n",
    "  2 вариант (сложнее,медленнее, но может дать большую точность): Можно проанализировать номера сессий, в \"хороших\" днях - установить порядок нумерации сессий, далее по обрывкам номеров можно восстановить пропущенные сессии. Рассчитать средний чек сесии и применить его.\n",
    "- brand_name   seller_name - не восстанавливал бы (зря время потратить)"
   ]
  },
  {
   "cell_type": "markdown",
   "id": "990111b8",
   "metadata": {},
   "source": [
    "**2.Что делать, если датасет несбалансированный?**\n",
    " - попробовать нормализовать\n",
    " "
   ]
  },
  {
   "cell_type": "markdown",
   "id": "b8e882cf",
   "metadata": {},
   "source": [
    "**3.Каковы потенциальные причины аномалий в наборе данных?**\n",
    " - Под аномалиями нонимаю провал в данных за 20..25. Причину вижу в сбое работы БД (была переустановка, наладка, обновление)\n",
    " "
   ]
  },
  {
   "cell_type": "markdown",
   "id": "ec5d1d99",
   "metadata": {},
   "source": [
    "**4.Что делать, если данных не хватает или они плохого качества?**\n",
    "- плохие данные на входе - плохие данные на выходе. \n",
    "- пытаться восстановить, что возможно.\n",
    "- пытаться выжать все возможное из имеющихся: составить новые признаки по хорошим данным, в которых уверен (напимер проанализировать связь среднего чека"
   ]
  }
 ],
 "metadata": {
  "kernelspec": {
   "display_name": "Python 3 (ipykernel)",
   "language": "python",
   "name": "python3"
  },
  "language_info": {
   "codemirror_mode": {
    "name": "ipython",
    "version": 3
   },
   "file_extension": ".py",
   "mimetype": "text/x-python",
   "name": "python",
   "nbconvert_exporter": "python",
   "pygments_lexer": "ipython3",
   "version": "3.9.4"
  }
 },
 "nbformat": 4,
 "nbformat_minor": 5
}
